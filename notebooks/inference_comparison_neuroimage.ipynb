{
 "cells": [
  {
   "cell_type": "code",
   "execution_count": 1,
   "metadata": {},
   "outputs": [],
   "source": [
    "import nibabel as nib\n",
    "import numpy as np\n",
    "import os\n",
    "import glob\n",
    "import sys\n",
    "import SimpleITK as sitk\n",
    "# !{sys.executable} -m pip install seaborn --user\n",
    "abs_dir=\"/mnt/data/mranzini\"\n",
    "# abs_dir=\"/Users/Marta/Desktop/mountpoint\"\n",
    "sys.path.append(os.path.join(*[abs_dir, \"Code\", \"Demic-v0.1\"]))\n",
    "import pandas as pd\n",
    "from Demic.util.image_process import *\n",
    "# from Demic.image_io.file_read_write import *\n",
    "\n",
    "import seaborn as sns\n",
    "import matplotlib.pyplot as plt\n"
   ]
  },
  {
   "cell_type": "code",
   "execution_count": 2,
   "metadata": {},
   "outputs": [],
   "source": [
    "def compute_IoU(seg1, seg2, label=1.0, display_counters=False):\n",
    "    \"\"\"\n",
    "    computes intersection over union as TP/(TP + FP + FN)\n",
    "    inputs\n",
    "        - seg1: first segmentation mask \n",
    "        - seg2: second segmentation mask to compare to first\n",
    "        - label: which label to compute the iou for\n",
    "    output:\n",
    "        - iou: intersection over union\n",
    "    \"\"\"\n",
    "\n",
    "    # flatten the segmentations\n",
    "    seg1 = seg1.flatten()\n",
    "    seg2 = seg2.flatten()\n",
    "\n",
    "    if len(seg1) != len(seg2):\n",
    "        raise InputError('The two segmentations have different dimensions - not comparable!')\n",
    "\n",
    "    yt = (seg1 == label)\n",
    "    yp = (seg2 == label)\n",
    "\n",
    "    TP = np.sum(np.logical_and(yt == 1, yp == 1))  # True positives\n",
    "    TN = np.sum(np.logical_and(yt == 0, yp == 0))  # True negatives\n",
    "    FP = np.sum(np.logical_and(yt == 0, yp == 1))  # False positives\n",
    "    FN = np.sum(np.logical_and(yt == 1, yp == 0))  # False negatives\n",
    "    \n",
    "    iou = TP / (TP + FP + FN)\n",
    "    \n",
    "    if display_counters:\n",
    "        print('TP = ' + str(TP))\n",
    "        print('TN = ' + str(TN))\n",
    "        print('FP = ' + str(FP))\n",
    "        print('FN = ' + str(FN))\n",
    "        print('IoU = ' + str(iou))\n",
    "\n",
    "    return iou"
   ]
  },
  {
   "cell_type": "code",
   "execution_count": 3,
   "metadata": {},
   "outputs": [],
   "source": [
    "# Guotai's implementation\n",
    "def binary_iou(s, g):\n",
    "    assert(len(s.shape)== len(g.shape))\n",
    "    intersecion = np.multiply(s, g)\n",
    "    union = np.asarray(s + g >0, np.float32)\n",
    "    iou = intersecion.sum()/(union.sum() + 1e-10)\n",
    "    return iou\n"
   ]
  },
  {
   "cell_type": "code",
   "execution_count": 4,
   "metadata": {},
   "outputs": [],
   "source": [
    "def compute_dice(seg1, seg2, label=1.0):\n",
    "    # flatten the segmentations\n",
    "    seg1 = seg1.flatten()\n",
    "    seg2 = seg2.flatten()\n",
    "\n",
    "    if len(seg1) != len(seg2):\n",
    "        raise InputError('The two segmentations have different dimensions - not comparable!')\n",
    "\n",
    "    yt = np.asarray(seg1 == label, np.float32)\n",
    "    yp = np.asarray(seg2 == label, np.float32)\n",
    "    \n",
    "    intersection = np.multiply(yt, yp)\n",
    "    union = np.asarray(yt + yp > 0, np.float32)\n",
    "    dice = 2 * np.sum(intersection) / (np.sum(yt) + np.sum(yp) + 1e-10)\n",
    "    \n",
    "    return dice "
   ]
  },
  {
   "cell_type": "code",
   "execution_count": 5,
   "metadata": {},
   "outputs": [
    {
     "name": "stdout",
     "output_type": "stream",
     "text": [
      "TP = 5\n",
      "TN = 4\n",
      "FP = 4\n",
      "FN = 3\n",
      "IoU = 0.4166666666666667\n",
      "0.41666666666319446\n",
      "0.588235294114187\n"
     ]
    }
   ],
   "source": [
    "# quick test iou makes sense\n",
    "A = np.array([[1, 2, 2, 1], [2, 2, 2, 1], [4, 5, 2, 1], [8, 2, 4, 2]])\n",
    "# print(A)\n",
    "B = np.array([[2, 2, 2, 2], [1, 1, 1, 1], [1, 2, 2, 1], [8, 2, 2, 2]])\n",
    "# print(B)\n",
    "\n",
    "# for class = 2\n",
    "# expected: TP = 5; TN = 4; FP = 4; FN = 3; => IoU = 0.41666667\n",
    "IoU = compute_IoU(A, B, label=2, display_counters=True)\n",
    "IoU_guotai = binary_iou(s=(A==2), g=(B==2))\n",
    "print(IoU_guotai)\n",
    "\n",
    "dice = compute_dice(A, B, label=2)\n",
    "# expected: 10/17 = 0.588 \n",
    "print(dice)"
   ]
  },
  {
   "cell_type": "code",
   "execution_count": 6,
   "metadata": {},
   "outputs": [],
   "source": [
    "def load_nifty_volume_as_4d_array(filename):\n",
    "    img_obj = sitk.ReadImage(filename)\n",
    "    data_array = sitk.GetArrayFromImage(img_obj)\n",
    "    spacing = img_obj.GetSpacing()\n",
    "    direction = img_obj.GetDirection()\n",
    "    shape = data_array.shape\n",
    "    if(len(shape) == 4):\n",
    "        data_array = np.moveaxis(data_array, 0, -1) \n",
    "    elif(len(shape) == 3):\n",
    "        data_array = np.expand_dims(data_array, axis = -1)\n",
    "    else:\n",
    "        raise ValueError(\"unsupported image dim: {0:}\".format(len(shape)))\n",
    "    output = {}\n",
    "    output['data_array'] = data_array\n",
    "    output['spacing']    = (spacing[2], spacing[1], spacing[0])\n",
    "    output['direction']  = direction\n",
    "    return output"
   ]
  },
  {
   "cell_type": "code",
   "execution_count": 7,
   "metadata": {},
   "outputs": [],
   "source": [
    "def read_nifti(nifti_file):\n",
    "#     img_nii = nib.load(nifti_file)\n",
    "#     img = img_nii.get_fdata()\n",
    "    \n",
    "    img_dict = load_nifty_volume_as_4d_array(nifti_file)\n",
    "    img = img_dict['data_array']\n",
    "    \n",
    "    # if two channels, get the foreground one\n",
    "    if img.shape[3] > 1:\n",
    "        img = img[..., 1]\n",
    "        \n",
    "    return img"
   ]
  },
  {
   "cell_type": "code",
   "execution_count": 8,
   "metadata": {},
   "outputs": [],
   "source": [
    "def apply_post_processing(input_pred, pred_thr=0.5):\n",
    "    \n",
    "    strt = ndimage.generate_binary_structure(3,2) # iterate structure\n",
    "    input_pred = input_pred > pred_thr   # TODO: check that this step is actually needed - Guotai did not have but need to check what activation he had in final layer\n",
    "    post_mask = ndimage.morphology.binary_closing(input_pred, strt)\n",
    "    post_mask = get_largest_component(post_mask)\n",
    "    postprocessed = np.asarray(post_mask*input_pred, np.uint8)\n",
    "\n",
    "    return postprocessed"
   ]
  },
  {
   "cell_type": "code",
   "execution_count": 9,
   "metadata": {},
   "outputs": [],
   "source": [
    "def get_all_dice(group=\"GroupA\", remove_outliers=False):\n",
    "\n",
    "    MAIN_DIR = os.path.join(*[abs_dir, \"Desktop\", \"GIFT-Surg\", \"Retraining_with_expanded_dataset\"])\n",
    "    folder_segment_guotai = os.path.join(*[MAIN_DIR, \"inference\", \"guotai\"])\n",
    "    folder_segment_retrained = os.path.join(*[MAIN_DIR, \"inference\", \"expanded\"])\n",
    "#     folder_unet = os.path.join(*[abs_dir, \"Desktop\", \"GIFT-Surg\", \"FBS_Monai\",\n",
    "#                                 \"basic_unet_monai\", \"runs\", \"2020-04-28_18-54-11\", \"inference_with_postprocessing\"])\n",
    "#     folder_unet = os.path.join(*[abs_dir, \"Desktop\", \"GIFT-Surg\", \"FBS_Monai\",\n",
    "#                                 \"basic_unet_monai\", \"tests_deterministic_seeds\", \"2020-06-19_15-36-56_plot_gradient_norm_clipping2\", \n",
    "#                                  \"inference_with_postprocessing\"])\n",
    "#     folder_unet = os.path.join(*[abs_dir, \"Desktop\", \"GIFT-Surg\", \"FBS_Monai\",\n",
    "#                                 \"basic_unet_monai\", \"tests_deterministic_seeds\", \"2020-07-02_22-50-00_MONAI_unet_Xent_10000\", \n",
    "#                                  \"inference_with_postprocessing\"])\n",
    "#     folder_unet = os.path.join(*[abs_dir, \"Desktop\", \"GIFT-Surg\", \"FBS_Monai\",\n",
    "#                                 \"basic_unet_monai\", \"tests_deterministic_seeds\", \"2020-07-09_15-26-42_MONAI_unet_Dice_twochannel_smooth1e-5\", \n",
    "#                                  \"inference_no_postprocessing\"])\n",
    "#     folder_unet = os.path.join(*[abs_dir, \"Desktop\", \"GIFT-Surg\", \"FBS_Monai\",\n",
    "#                                 \"basic_unet_monai\", \"tests_deterministic_seeds\", \"2020-07-06_14-08-14_MONAI_unet_Dice_nosmooth_it10000\", \n",
    "#                                  \"inference_no_postprocessing\"])\n",
    "    folder_unet = os.path.join(*[abs_dir, \"Desktop\", \"GIFT-Surg\", \"FBS_Monai\",\n",
    "                                \"basic_unet_monai\", \"tests_deterministic_seeds\", \"monai0.2.0_tests\",\n",
    "                                 \"2020-09-22_15-50-00_monai0.2.0-MONAI_unet-Batch_Dice_Xent_two_channel_inplanecrop\", \n",
    "                                 \"inference_valid_key_metric=0.9504\"])\n",
    "    folder_nnUnet = os.path.join(*[abs_dir, \"Desktop\", \"GIFT-Surg\", \"FBS_Monai\",\n",
    "                                \"basic_unet_monai\", \"tests_deterministic_seeds\", \"nnUNet_comparison\",\n",
    "                                \"nnUNet_UniformSampling_pred_test\"])\n",
    "    \n",
    "    folder_gt1 = os.path.join(*[abs_dir, \"Desktop\", \"GIFT-Surg\", \"Data\", \"NeuroImage_dataset\"])\n",
    "    folder_gt2 = os.path.join(*[abs_dir, \"Desktop\", \"GIFT-Surg\", \"Data\", \"NeuroImage_dataset_extension\"])\n",
    "\n",
    "    params_dict = {'GroupA': os.path.join(folder_gt1, \"list_inference_h_subjects.txt\"),\n",
    "                  'GroupB1': os.path.join(folder_gt1, \"list_inference_p1_subjects.txt\"),\n",
    "                  'GroupB2': os.path.join(folder_gt1, \"list_inference_p2_subjects.txt\"),\n",
    "                  'GroupC': os.path.join(*[folder_gt2, \"splitting_list\", \"list_inference_C.txt\"]),\n",
    "                  'GroupD': os.path.join(*[folder_gt2, \"splitting_list\", \"list_inference_D.txt\"]),\n",
    "                  'GroupE': os.path.join(*[folder_gt2, \"splitting_list\", \"list_inference_E.txt\"]),\n",
    "                  'GroupF': os.path.join(*[folder_gt2, \"splitting_list\", \"list_inference_F.txt\"])\n",
    "                  }\n",
    "    \n",
    "    gt_dict = {'GroupA': folder_gt1,\n",
    "               'GroupB1': folder_gt1,\n",
    "               'GroupB2': folder_gt1,\n",
    "               'GroupC': folder_gt2,\n",
    "               'GroupD': folder_gt2,\n",
    "               'GroupE': folder_gt2,\n",
    "               'GroupF': folder_gt2}\n",
    "\n",
    "    dice_vals = {\"subj_id\": [], \"guotai\": [], \"expanded\": [], \"basic_unet\": [], \"nnU-Net\": []}\n",
    "    subj_list = params_dict[group]\n",
    "    folder_gt = gt_dict[group]\n",
    "    with open(subj_list) as r:\n",
    "        lines = r.readlines()\n",
    "        for l in lines:\n",
    "            print(l)\n",
    "            all_stacks = sorted(glob.glob(os.path.join(*[folder_gt, group, l.rstrip() + '*_Label.nii.gz'])))\n",
    "            for s in all_stacks:\n",
    "                scan_id = os.path.basename(s)\n",
    "                scan_id = scan_id.split(\"_Label\", 1)[0]\n",
    "                if scan_id == \"b79_16\":\n",
    "                    # original image is corrupted\n",
    "                    continue\n",
    "                dice_vals[\"subj_id\"].append(scan_id)\n",
    "                \n",
    "                # get the ground truth\n",
    "                gt = np.squeeze(read_nifti(s))\n",
    "                \n",
    "                # extract dice from Guotai's model\n",
    "                guotai_file = os.path.join(*[folder_segment_guotai, group, scan_id + \"_segment.nii.gz\"])\n",
    "                guotai_segment = np.squeeze(read_nifti(guotai_file))\n",
    "                if(remove_outliers):\n",
    "                    guotai_segment = apply_post_processing(guotai_segment)\n",
    "                dice_vals[\"guotai\"].append(compute_dice(gt, guotai_segment))\n",
    "                \n",
    "                # extract dice from expanded training model\n",
    "                retrained_file = os.path.join(*[folder_segment_retrained, group, scan_id + \"_segment.nii.gz\"])\n",
    "                retrained_segment = np.squeeze(read_nifti(retrained_file))\n",
    "                if(remove_outliers):\n",
    "                    retrained_segment = apply_post_processing(retrained_segment)\n",
    "                dice_vals[\"expanded\"].append(compute_dice(gt, retrained_segment))\n",
    "                \n",
    "                # extract dice from basic unet in monai\n",
    "                monai_file = os.path.join(*[folder_unet, scan_id + \"_Image\", scan_id + \"_Image_seg.nii.gz\"])\n",
    "                monai_segment = np.squeeze(read_nifti(monai_file))\n",
    "                if(remove_outliers):\n",
    "                    monai_segment = apply_post_processing(monai_segment)\n",
    "                dice_vals[\"basic_unet\"].append(compute_dice(gt, monai_segment))\n",
    "                \n",
    "                # extract dice from nnUNet\n",
    "                nnunet_file = os.path.join(*[folder_nnUnet, group + \"_\" + scan_id + \"_Image.nii.gz\"])\n",
    "                nnunet_segment = np.squeeze(read_nifti(nnunet_file))\n",
    "                if(remove_outliers):\n",
    "                    nnunet_segment = apply_post_processing(nnunet_segment)\n",
    "                dice_vals[\"nnU-Net\"].append(compute_dice(gt, nnunet_segment))\n",
    "\n",
    "    dice_vals[\"guotai\"] = np.asarray(dice_vals[\"guotai\"])\n",
    "    dice_vals[\"expanded\"] = np.asarray(dice_vals[\"expanded\"])\n",
    "    dice_vals[\"basic_unet\"] = np.asarray(dice_vals[\"basic_unet\"])\n",
    "    dice_vals[\"nnU-Net\"] = np.asarray(dice_vals[\"nnU-Net\"])\n",
    "\n",
    "    return dice_vals"
   ]
  },
  {
   "cell_type": "code",
   "execution_count": 10,
   "metadata": {},
   "outputs": [
    {
     "name": "stdout",
     "output_type": "stream",
     "text": [
      "a02\n",
      "\n",
      "a06\n",
      "\n",
      "a17\n",
      "\n",
      "a24\n",
      "\n",
      "a26\n",
      "\n",
      "b18\n",
      "\n",
      "b79\n",
      "\n",
      "17_05\n",
      "\n",
      "17_10\n",
      "\n",
      "17_14\n",
      "\n",
      "17_16\n",
      "\n",
      "17_18\n",
      "\n",
      "17_20\n",
      "\n",
      "17_25\n",
      "\n",
      "17_34\n",
      "\n",
      "17_36\n",
      "\n",
      "17_38\n",
      "\n",
      "17_43\n",
      "\n",
      "17_49\n",
      "\n",
      "17_51\n",
      "\n",
      "17_53\n",
      "\n",
      "17_57\n",
      "\n",
      "17_66\n",
      "\n",
      "17_06\n",
      "\n",
      "17_11\n",
      "\n",
      "17_15\n",
      "\n",
      "17_17\n",
      "\n",
      "17_19\n",
      "\n",
      "17_21\n",
      "\n",
      "17_26\n",
      "\n",
      "17_35\n",
      "\n",
      "17_37\n",
      "\n",
      "17_39\n",
      "\n",
      "17_44\n",
      "\n",
      "17_50\n",
      "\n",
      "17_52\n",
      "\n",
      "17_54\n",
      "\n",
      "17_58\n",
      "\n",
      "17_67\n",
      "\n",
      "C01\n",
      "\n",
      "C07\n",
      "\n",
      "C08\n",
      "\n",
      "C17\n",
      "\n",
      "C22\n",
      "\n",
      "D01\n",
      "\n",
      "D05\n",
      "\n",
      "E07\n",
      "\n",
      "E08\n",
      "\n",
      "E16\n",
      "\n",
      "E17\n",
      "\n",
      "F01\n",
      "\n",
      "F02\n",
      "\n",
      "F03\n",
      "\n",
      "F04\n",
      "\n"
     ]
    }
   ],
   "source": [
    "remove_outlier = True\n",
    "dice_groupA = get_all_dice(group=\"GroupA\", remove_outliers=remove_outlier)\n",
    "dice_groupB1 = get_all_dice(group=\"GroupB1\", remove_outliers=remove_outlier)\n",
    "dice_groupB2 = get_all_dice(group=\"GroupB2\", remove_outliers=remove_outlier)\n",
    "dice_groupC = get_all_dice(group=\"GroupC\", remove_outliers=remove_outlier)\n",
    "dice_groupD = get_all_dice(group=\"GroupD\", remove_outliers=remove_outlier)\n",
    "dice_groupE = get_all_dice(group=\"GroupE\", remove_outliers=remove_outlier)\n",
    "dice_groupF = get_all_dice(group=\"GroupF\", remove_outliers=remove_outlier)"
   ]
  },
  {
   "cell_type": "code",
   "execution_count": 22,
   "metadata": {},
   "outputs": [
    {
     "data": {
      "image/png": "[encoded data removed]",
      "text/plain": [
       "<Figure size 864x360 with 1 Axes>"
      ]
     },
     "metadata": {
      "needs_background": "light"
     },
     "output_type": "display_data"
    }
   ],
   "source": [
    "import pandas as pd\n",
    "\n",
    "pd1 = pd.DataFrame(data={'Group': 'Group A', 'Dice': dice_groupA['guotai'], 'Model': 'NeuroImage'})\n",
    "pd1 = pd1.append(pd.DataFrame({'Group': 'Group A', 'Dice': dice_groupA['expanded'], 'Model': 'Expanded'}))\n",
    "pd1 = pd1.append(pd.DataFrame({'Group': 'Group B1', 'Dice': dice_groupB1['guotai'], 'Model': 'NeuroImage'}))\n",
    "pd1 = pd1.append(pd.DataFrame({'Group': 'Group B1', 'Dice': dice_groupB1['expanded'], 'Model': 'Expanded'}))\n",
    "pd1 = pd1.append(pd.DataFrame({'Group': 'Group B2', 'Dice': dice_groupB2['guotai'], 'Model': 'NeuroImage'}))\n",
    "pd1 = pd1.append(pd.DataFrame({'Group': 'Group B2', 'Dice': dice_groupB2['expanded'], 'Model': 'Expanded'}))\n",
    "pd1 = pd1.append(pd.DataFrame({'Group': 'Group C', 'Dice': dice_groupC['guotai'], 'Model': 'NeuroImage'}))\n",
    "pd1 = pd1.append(pd.DataFrame({'Group': 'Group C', 'Dice': dice_groupC['expanded'], 'Model': 'Expanded'}))\n",
    "pd1 = pd1.append(pd.DataFrame({'Group': 'Group D', 'Dice': dice_groupD['guotai'], 'Model': 'NeuroImage'}))\n",
    "pd1 = pd1.append(pd.DataFrame({'Group': 'Group D', 'Dice': dice_groupD['expanded'], 'Model': 'Expanded'}))\n",
    "pd1 = pd1.append(pd.DataFrame({'Group': 'Group E', 'Dice': dice_groupE['guotai'], 'Model': 'NeuroImage'}))\n",
    "pd1 = pd1.append(pd.DataFrame({'Group': 'Group E', 'Dice': dice_groupE['expanded'], 'Model': 'Expanded'}))\n",
    "pd1 = pd1.append(pd.DataFrame({'Group': 'Group F', 'Dice': dice_groupF['guotai'], 'Model': 'NeuroImage'}))\n",
    "pd1 = pd1.append(pd.DataFrame({'Group': 'Group F', 'Dice': dice_groupF['expanded'], 'Model': 'Expanded'}))\n",
    "\n",
    "pd1 = pd1.append(pd.DataFrame({'Group': 'Group A', 'Dice': dice_groupA['basic_unet'], 'Model': 'MONAI Unet'}))\n",
    "pd1 = pd1.append(pd.DataFrame({'Group': 'Group B1', 'Dice': dice_groupB1['basic_unet'], 'Model': 'MONAI Unet'}))\n",
    "pd1 = pd1.append(pd.DataFrame({'Group': 'Group B2', 'Dice': dice_groupB2['basic_unet'], 'Model': 'MONAI Unet'}))\n",
    "pd1 = pd1.append(pd.DataFrame({'Group': 'Group C', 'Dice': dice_groupC['basic_unet'], 'Model': 'MONAI Unet'}))\n",
    "pd1 = pd1.append(pd.DataFrame({'Group': 'Group D', 'Dice': dice_groupD['basic_unet'], 'Model': 'MONAI Unet'}))\n",
    "pd1 = pd1.append(pd.DataFrame({'Group': 'Group E', 'Dice': dice_groupE['basic_unet'], 'Model': 'MONAI Unet'}))\n",
    "pd1 = pd1.append(pd.DataFrame({'Group': 'Group F', 'Dice': dice_groupF['basic_unet'], 'Model': 'MONAI Unet'}))\n",
    "\n",
    "pd1 = pd1.append(pd.DataFrame({'Group': 'Group A', 'Dice': dice_groupA['nnU-Net'], 'Model': 'nnU-Net'}))\n",
    "pd1 = pd1.append(pd.DataFrame({'Group': 'Group B1', 'Dice': dice_groupB1['nnU-Net'], 'Model': 'nnU-Net'}))\n",
    "pd1 = pd1.append(pd.DataFrame({'Group': 'Group B2', 'Dice': dice_groupB2['nnU-Net'], 'Model': 'nnU-Net'}))\n",
    "pd1 = pd1.append(pd.DataFrame({'Group': 'Group C', 'Dice': dice_groupC['nnU-Net'], 'Model': 'nnU-Net'}))\n",
    "pd1 = pd1.append(pd.DataFrame({'Group': 'Group D', 'Dice': dice_groupD['nnU-Net'], 'Model': 'nnU-Net'}))\n",
    "pd1 = pd1.append(pd.DataFrame({'Group': 'Group E', 'Dice': dice_groupE['nnU-Net'], 'Model': 'nnU-Net'}))\n",
    "pd1 = pd1.append(pd.DataFrame({'Group': 'Group F', 'Dice': dice_groupF['nnU-Net'], 'Model': 'nnU-Net'}))\n",
    "\n",
    "fig = plt.figure(figsize=(12, 5))\n",
    "b1 = sns.boxplot(x='Group', y='Dice', hue='Model', data=pd1, palette=['seagreen', 'gold', 'orangered', 'mediumvioletred'])\n",
    "b1.set_ylabel('Dice', fontsize=18)\n",
    "plt.grid(b=True,axis='y')"
   ]
  },
  {
   "cell_type": "code",
   "execution_count": 23,
   "metadata": {},
   "outputs": [
    {
     "data": {
      "image/png": "[encoded data removed]",
      "text/plain": [
       "<Figure size 720x360 with 1 Axes>"
      ]
     },
     "metadata": {
      "needs_background": "light"
     },
     "output_type": "display_data"
    }
   ],
   "source": [
    "pd2 = pd.DataFrame(data={'Group': 'Healthy UZL', 'Dice': dice_groupA['guotai'], 'Model': 'NeuroImage'})\n",
    "pd2 = pd2.append(pd.DataFrame({'Group': 'Healthy UZL', 'Dice': dice_groupA['expanded'], 'Model': 'Expanded'}))\n",
    "pd2 = pd2.append(pd.DataFrame({'Group': 'Spina Bifida UZL', 'Dice': dice_groupB1['guotai'], 'Model': 'NeuroImage'}))\n",
    "pd2 = pd2.append(pd.DataFrame({'Group': 'Spina Bifida UZL', 'Dice': dice_groupB1['expanded'], 'Model': 'Expanded'}))\n",
    "pd2 = pd2.append(pd.DataFrame({'Group': 'Spina Bifida UZL', 'Dice': dice_groupB2['guotai'], 'Model': 'NeuroImage'}))\n",
    "pd2 = pd2.append(pd.DataFrame({'Group': 'Spina Bifida UZL', 'Dice': dice_groupB2['expanded'], 'Model': 'Expanded'}))\n",
    "pd2 = pd2.append(pd.DataFrame({'Group': 'Spina Bifida UZL', 'Dice': dice_groupC['guotai'], 'Model': 'NeuroImage'}))\n",
    "pd2 = pd2.append(pd.DataFrame({'Group': 'Spina Bifida UZL', 'Dice': dice_groupC['expanded'], 'Model': 'Expanded'}))\n",
    "pd2 = pd2.append(pd.DataFrame({'Group': 'Spina Bifida UZL', 'Dice': dice_groupD['guotai'], 'Model': 'NeuroImage'}))\n",
    "pd2 = pd2.append(pd.DataFrame({'Group': 'Spina Bifida UZL', 'Dice': dice_groupD['expanded'], 'Model': 'Expanded'}))\n",
    "pd2 = pd2.append(pd.DataFrame({'Group': 'Spina Bifida Vienna', 'Dice': dice_groupE['guotai'], 'Model': 'NeuroImage'}))\n",
    "pd2 = pd2.append(pd.DataFrame({'Group': 'Spina Bifida Vienna', 'Dice': dice_groupE['expanded'], 'Model': 'Expanded'}))\n",
    "pd2 = pd2.append(pd.DataFrame({'Group': 'Spina Bifida TBD', 'Dice': dice_groupF['guotai'], 'Model': 'NeuroImage'}))\n",
    "pd2 = pd2.append(pd.DataFrame({'Group': 'Spina Bifida TBD', 'Dice': dice_groupF['expanded'], 'Model': 'Expanded'}))\n",
    "\n",
    "pd2 = pd2.append(pd.DataFrame({'Group': 'Healthy UZL', 'Dice': dice_groupA['basic_unet'], 'Model': 'MONAI Unet'}))\n",
    "pd2 = pd2.append(pd.DataFrame({'Group': 'Spina Bifida UZL', 'Dice': dice_groupB1['basic_unet'], 'Model': 'MONAI Unet'}))\n",
    "pd2 = pd2.append(pd.DataFrame({'Group': 'Spina Bifida UZL', 'Dice': dice_groupB2['basic_unet'], 'Model': 'MONAI Unet'}))\n",
    "pd2 = pd2.append(pd.DataFrame({'Group': 'Spina Bifida UZL', 'Dice': dice_groupC['basic_unet'], 'Model': 'MONAI Unet'}))\n",
    "pd2 = pd2.append(pd.DataFrame({'Group': 'Spina Bifida UZL', 'Dice': dice_groupD['basic_unet'], 'Model': 'MONAI Unet'}))\n",
    "pd2 = pd2.append(pd.DataFrame({'Group': 'Spina Bifida Vienna', 'Dice': dice_groupE['basic_unet'], 'Model': 'MONAI Unet'}))\n",
    "pd2 = pd2.append(pd.DataFrame({'Group': 'Spina Bifida TBD', 'Dice': dice_groupF['basic_unet'], 'Model': 'MONAI Unet'}))\n",
    "\n",
    "pd2 = pd2.append(pd.DataFrame({'Group': 'Healthy UZL', 'Dice': dice_groupA['nnU-Net'], 'Model': 'nnU-Net'}))\n",
    "pd2 = pd2.append(pd.DataFrame({'Group': 'Spina Bifida UZL', 'Dice': dice_groupB1['nnU-Net'], 'Model': 'nnU-Net'}))\n",
    "pd2 = pd2.append(pd.DataFrame({'Group': 'Spina Bifida UZL', 'Dice': dice_groupB2['nnU-Net'], 'Model': 'nnU-Net'}))\n",
    "pd2 = pd2.append(pd.DataFrame({'Group': 'Spina Bifida UZL', 'Dice': dice_groupC['nnU-Net'], 'Model': 'nnU-Net'}))\n",
    "pd2 = pd2.append(pd.DataFrame({'Group': 'Spina Bifida UZL', 'Dice': dice_groupD['nnU-Net'], 'Model': 'nnU-Net'}))\n",
    "pd2 = pd2.append(pd.DataFrame({'Group': 'Spina Bifida Vienna', 'Dice': dice_groupE['nnU-Net'], 'Model': 'nnU-Net'}))\n",
    "pd2 = pd2.append(pd.DataFrame({'Group': 'Spina Bifida TBD', 'Dice': dice_groupF['nnU-Net'], 'Model': 'nnU-Net'}))\n",
    "\n",
    "fig2 = plt.figure(figsize=(10, 5))\n",
    "b2 = sns.boxplot(x='Group', y='Dice', hue='Model', data=pd2, palette=['seagreen', 'gold', 'orangered', 'mediumvioletred'])\n",
    "b2.set_ylabel('Dice', fontsize=18)\n",
    "plt.grid(b=True,axis='y')"
   ]
  },
  {
   "cell_type": "code",
   "execution_count": 13,
   "metadata": {},
   "outputs": [
    {
     "name": "stdout",
     "output_type": "stream",
     "text": [
      "guotai\n",
      "['a26_06']\n",
      "expanded\n",
      "['a26_06']\n",
      "basic_unet\n",
      "[]\n"
     ]
    }
   ],
   "source": [
    "for k in ['guotai', 'expanded', 'basic_unet']:\n",
    "    print(k)\n",
    "    idx = np.squeeze(np.argwhere(dice_groupA[k] == 0), axis=-1)\n",
    "    print([dice_groupA['subj_id'][i] for i in idx])\n"
   ]
  },
  {
   "cell_type": "code",
   "execution_count": 14,
   "metadata": {},
   "outputs": [
    {
     "name": "stdout",
     "output_type": "stream",
     "text": [
      "guotai\n",
      "[]\n",
      "expanded\n",
      "['17_20_03', '17_51_03']\n",
      "basic_unet\n",
      "['17_53_19']\n"
     ]
    }
   ],
   "source": [
    "for k in ['guotai', 'expanded', 'basic_unet']:\n",
    "    print(k)\n",
    "    idx = np.squeeze(np.argwhere(dice_groupB1[k] == 0), axis=-1)\n",
    "    print([dice_groupB1['subj_id'][i] for i in idx])"
   ]
  },
  {
   "cell_type": "code",
   "execution_count": 15,
   "metadata": {},
   "outputs": [
    {
     "name": "stdout",
     "output_type": "stream",
     "text": [
      "guotai\n",
      "[]\n",
      "expanded\n",
      "[]\n",
      "basic_unet\n",
      "['17_52_03']\n"
     ]
    }
   ],
   "source": [
    "for k in ['guotai', 'expanded', 'basic_unet']:\n",
    "    print(k)\n",
    "    idx = np.squeeze(np.argwhere(dice_groupB2[k] == 0), axis=-1)\n",
    "    print([dice_groupB2['subj_id'][i] for i in idx])"
   ]
  },
  {
   "cell_type": "code",
   "execution_count": 16,
   "metadata": {},
   "outputs": [
    {
     "name": "stdout",
     "output_type": "stream",
     "text": [
      "guotai\n",
      "[]\n",
      "expanded\n",
      "[]\n",
      "basic_unet\n",
      "[]\n"
     ]
    }
   ],
   "source": [
    "for k in ['guotai', 'expanded', 'basic_unet']:\n",
    "    print(k)\n",
    "    idx = np.squeeze(np.argwhere(dice_groupC[k] == 0), axis=-1)\n",
    "    print([dice_groupC['subj_id'][i] for i in idx])"
   ]
  },
  {
   "cell_type": "code",
   "execution_count": 17,
   "metadata": {},
   "outputs": [
    {
     "name": "stdout",
     "output_type": "stream",
     "text": [
      "guotai\n",
      "[]\n",
      "expanded\n",
      "['D01_01']\n",
      "basic_unet\n",
      "['D01_01', 'D01_05']\n"
     ]
    }
   ],
   "source": [
    "for k in ['guotai', 'expanded', 'basic_unet']:\n",
    "    print(k)\n",
    "    idx = np.squeeze(np.argwhere(dice_groupD[k] == 0), axis=-1)\n",
    "    print([dice_groupD['subj_id'][i] for i in idx])"
   ]
  },
  {
   "cell_type": "code",
   "execution_count": 18,
   "metadata": {},
   "outputs": [
    {
     "name": "stdout",
     "output_type": "stream",
     "text": [
      "guotai\n",
      "[]\n",
      "expanded\n",
      "[]\n",
      "basic_unet\n",
      "[]\n"
     ]
    }
   ],
   "source": [
    "for k in ['guotai', 'expanded', 'basic_unet']:\n",
    "    print(k)\n",
    "    idx = np.squeeze(np.argwhere(dice_groupE[k] == 0), axis=-1)\n",
    "    print([dice_groupE['subj_id'][i] for i in idx])"
   ]
  },
  {
   "cell_type": "code",
   "execution_count": 19,
   "metadata": {},
   "outputs": [
    {
     "name": "stdout",
     "output_type": "stream",
     "text": [
      "guotai\n",
      "[]\n",
      "expanded\n",
      "[]\n",
      "basic_unet\n",
      "[]\n"
     ]
    }
   ],
   "source": [
    "for k in ['guotai', 'expanded', 'basic_unet']:\n",
    "    print(k)\n",
    "    idx = np.squeeze(np.argwhere(dice_groupF[k] == 0), axis=-1)\n",
    "    print([dice_groupF['subj_id'][i] for i in idx])"
   ]
  },
  {
   "cell_type": "code",
   "execution_count": 20,
   "metadata": {},
   "outputs": [
    {
     "data": {
      "text/plain": [
       "array([], dtype=float64)"
      ]
     },
     "execution_count": 20,
     "metadata": {},
     "output_type": "execute_result"
    }
   ],
   "source": [
    "dice_groupA['expanded'][np.squeeze(np.argwhere(dice_groupA['basic_unet'] == 0), axis=-1)]"
   ]
  },
  {
   "cell_type": "code",
   "execution_count": 21,
   "metadata": {},
   "outputs": [
    {
     "name": "stdout",
     "output_type": "stream",
     "text": [
      "Group A\n"
     ]
    },
    {
     "ename": "KeyError",
     "evalue": "'difference'",
     "output_type": "error",
     "traceback": [
      "\u001b[0;31m---------------------------------------------------------------------------\u001b[0m",
      "\u001b[0;31mKeyError\u001b[0m                                  Traceback (most recent call last)",
      "\u001b[0;32m<ipython-input-21-b5ede3db75d5>\u001b[0m in \u001b[0;36m<module>\u001b[0;34m\u001b[0m\n\u001b[1;32m      6\u001b[0m     \u001b[0;34m[\u001b[0m\u001b[0mprint\u001b[0m\u001b[0;34m(\u001b[0m\u001b[0mdice_dict\u001b[0m\u001b[0;34m[\u001b[0m\u001b[0;34m\"subj_id\"\u001b[0m\u001b[0;34m]\u001b[0m\u001b[0;34m[\u001b[0m\u001b[0mi\u001b[0m\u001b[0;34m]\u001b[0m\u001b[0;34m,\u001b[0m \u001b[0mdice_dict\u001b[0m\u001b[0;34m[\u001b[0m\u001b[0;34m\"guotai\"\u001b[0m\u001b[0;34m]\u001b[0m\u001b[0;34m[\u001b[0m\u001b[0mi\u001b[0m\u001b[0;34m]\u001b[0m\u001b[0;34m,\u001b[0m \u001b[0mdice_dict\u001b[0m\u001b[0;34m[\u001b[0m\u001b[0;34m\"retrained\"\u001b[0m\u001b[0;34m]\u001b[0m\u001b[0;34m[\u001b[0m\u001b[0mi\u001b[0m\u001b[0;34m]\u001b[0m\u001b[0;34m)\u001b[0m \u001b[0;32mfor\u001b[0m \u001b[0mi\u001b[0m\u001b[0;34m,\u001b[0m \u001b[0;32min\u001b[0m \u001b[0midx_over\u001b[0m\u001b[0;34m]\u001b[0m\u001b[0;34m\u001b[0m\u001b[0;34m\u001b[0m\u001b[0m\n\u001b[1;32m      7\u001b[0m \u001b[0;34m\u001b[0m\u001b[0m\n\u001b[0;32m----> 8\u001b[0;31m \u001b[0mprint_cases_to_check\u001b[0m\u001b[0;34m(\u001b[0m\u001b[0mdice_groupA\u001b[0m\u001b[0;34m,\u001b[0m \u001b[0;34m'Group A'\u001b[0m\u001b[0;34m)\u001b[0m\u001b[0;34m\u001b[0m\u001b[0;34m\u001b[0m\u001b[0m\n\u001b[0m\u001b[1;32m      9\u001b[0m \u001b[0mprint_cases_to_check\u001b[0m\u001b[0;34m(\u001b[0m\u001b[0mdice_groupB1\u001b[0m\u001b[0;34m,\u001b[0m \u001b[0;34m'Group B1'\u001b[0m\u001b[0;34m)\u001b[0m\u001b[0;34m\u001b[0m\u001b[0;34m\u001b[0m\u001b[0m\n\u001b[1;32m     10\u001b[0m \u001b[0mprint_cases_to_check\u001b[0m\u001b[0;34m(\u001b[0m\u001b[0mdice_groupB2\u001b[0m\u001b[0;34m,\u001b[0m \u001b[0;34m'Group B2'\u001b[0m\u001b[0;34m)\u001b[0m\u001b[0;34m\u001b[0m\u001b[0;34m\u001b[0m\u001b[0m\n",
      "\u001b[0;32m<ipython-input-21-b5ede3db75d5>\u001b[0m in \u001b[0;36mprint_cases_to_check\u001b[0;34m(dice_dict, group, thr_diff)\u001b[0m\n\u001b[1;32m      2\u001b[0m \u001b[0;32mdef\u001b[0m \u001b[0mprint_cases_to_check\u001b[0m\u001b[0;34m(\u001b[0m\u001b[0mdice_dict\u001b[0m\u001b[0;34m,\u001b[0m \u001b[0mgroup\u001b[0m\u001b[0;34m,\u001b[0m \u001b[0mthr_diff\u001b[0m\u001b[0;34m=\u001b[0m\u001b[0;36m0.3\u001b[0m\u001b[0;34m)\u001b[0m\u001b[0;34m:\u001b[0m\u001b[0;34m\u001b[0m\u001b[0;34m\u001b[0m\u001b[0m\n\u001b[1;32m      3\u001b[0m     \u001b[0mprint\u001b[0m\u001b[0;34m(\u001b[0m\u001b[0mgroup\u001b[0m\u001b[0;34m)\u001b[0m\u001b[0;34m\u001b[0m\u001b[0;34m\u001b[0m\u001b[0m\n\u001b[0;32m----> 4\u001b[0;31m     \u001b[0midx_over\u001b[0m \u001b[0;34m=\u001b[0m \u001b[0mnp\u001b[0m\u001b[0;34m.\u001b[0m\u001b[0margwhere\u001b[0m\u001b[0;34m(\u001b[0m\u001b[0mnp\u001b[0m\u001b[0;34m.\u001b[0m\u001b[0mabs\u001b[0m\u001b[0;34m(\u001b[0m\u001b[0mdice_dict\u001b[0m\u001b[0;34m[\u001b[0m\u001b[0;34m\"difference\"\u001b[0m\u001b[0;34m]\u001b[0m\u001b[0;34m)\u001b[0m \u001b[0;34m>\u001b[0m \u001b[0mthr_diff\u001b[0m\u001b[0;34m)\u001b[0m\u001b[0;34m\u001b[0m\u001b[0;34m\u001b[0m\u001b[0m\n\u001b[0m\u001b[1;32m      5\u001b[0m     \u001b[0midx_over\u001b[0m \u001b[0;34m=\u001b[0m \u001b[0mnp\u001b[0m\u001b[0;34m.\u001b[0m\u001b[0masarray\u001b[0m\u001b[0;34m(\u001b[0m\u001b[0midx_over\u001b[0m\u001b[0;34m)\u001b[0m\u001b[0;34m\u001b[0m\u001b[0;34m\u001b[0m\u001b[0m\n\u001b[1;32m      6\u001b[0m     \u001b[0;34m[\u001b[0m\u001b[0mprint\u001b[0m\u001b[0;34m(\u001b[0m\u001b[0mdice_dict\u001b[0m\u001b[0;34m[\u001b[0m\u001b[0;34m\"subj_id\"\u001b[0m\u001b[0;34m]\u001b[0m\u001b[0;34m[\u001b[0m\u001b[0mi\u001b[0m\u001b[0;34m]\u001b[0m\u001b[0;34m,\u001b[0m \u001b[0mdice_dict\u001b[0m\u001b[0;34m[\u001b[0m\u001b[0;34m\"guotai\"\u001b[0m\u001b[0;34m]\u001b[0m\u001b[0;34m[\u001b[0m\u001b[0mi\u001b[0m\u001b[0;34m]\u001b[0m\u001b[0;34m,\u001b[0m \u001b[0mdice_dict\u001b[0m\u001b[0;34m[\u001b[0m\u001b[0;34m\"retrained\"\u001b[0m\u001b[0;34m]\u001b[0m\u001b[0;34m[\u001b[0m\u001b[0mi\u001b[0m\u001b[0;34m]\u001b[0m\u001b[0;34m)\u001b[0m \u001b[0;32mfor\u001b[0m \u001b[0mi\u001b[0m\u001b[0;34m,\u001b[0m \u001b[0;32min\u001b[0m \u001b[0midx_over\u001b[0m\u001b[0;34m]\u001b[0m\u001b[0;34m\u001b[0m\u001b[0;34m\u001b[0m\u001b[0m\n",
      "\u001b[0;31mKeyError\u001b[0m: 'difference'"
     ]
    }
   ],
   "source": [
    "# print some cases to check\n",
    "def print_cases_to_check(dice_dict, group, thr_diff=0.3):\n",
    "    print(group)\n",
    "    idx_over = np.argwhere(np.abs(dice_dict[\"difference\"]) > thr_diff)\n",
    "    idx_over = np.asarray(idx_over)\n",
    "    [print(dice_dict[\"subj_id\"][i], dice_dict[\"guotai\"][i], dice_dict[\"retrained\"][i]) for i, in idx_over]\n",
    "\n",
    "print_cases_to_check(dice_groupA, 'Group A')\n",
    "print_cases_to_check(dice_groupB1, 'Group B1')\n",
    "print_cases_to_check(dice_groupB2, 'Group B2')\n"
   ]
  },
  {
   "cell_type": "code",
   "execution_count": null,
   "metadata": {},
   "outputs": [],
   "source": [
    "sid = 'a06_04'\n",
    "idx = np.argwhere(np.array(dice_groupA['subj_id']) == sid)\n",
    "print(idx)\n",
    "print(\"**** {} ****\".format(sid))\n",
    "print(\"Guotai = {}\".format(dice_groupA['guotai'][idx]))\n",
    "print(\"Expanded = {}\".format(dice_groupA['expanded'][idx]))\n",
    "print(\"MONAI = {}\".format(dice_groupA['basic_unet'][idx]))"
   ]
  },
  {
   "cell_type": "code",
   "execution_count": null,
   "metadata": {},
   "outputs": [],
   "source": [
    "dice_thr = 0.7\n",
    "tot = len(dice_groupB2['subj_id'])\n",
    "print(\"Total number of images in group: {}\\n\".format(tot))\n",
    "\n",
    "for k in ['guotai', 'expanded', 'basic_unet']:\n",
    "    print(k)\n",
    "    idx = np.squeeze(np.argwhere(dice_groupB2[k] < dice_thr), axis=-1)\n",
    "    print([dice_groupB2['subj_id'][i] for i in idx])\n",
    "    print(\"Percentage of cases: {}%\\n\".format(100*len(idx)/tot))"
   ]
  },
  {
   "cell_type": "code",
   "execution_count": null,
   "metadata": {},
   "outputs": [],
   "source": []
  }
 ],
 "metadata": {
  "kernelspec": {
   "display_name": "monai0.2.0-venv",
   "language": "python",
   "name": "monai0.2.0-venv"
  },
  "language_info": {
   "codemirror_mode": {
    "name": "ipython",
    "version": 3
   },
   "file_extension": ".py",
   "mimetype": "text/x-python",
   "name": "python",
   "nbconvert_exporter": "python",
   "pygments_lexer": "ipython3",
   "version": "3.7.4"
  }
 },
 "nbformat": 4,
 "nbformat_minor": 2
}
