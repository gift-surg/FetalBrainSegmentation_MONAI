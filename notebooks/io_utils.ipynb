{
 "cells": [
  {
   "cell_type": "code",
   "execution_count": 5,
   "metadata": {},
   "outputs": [],
   "source": [
    "import os\n",
    "\n",
    "def search_file_in_folder_list(folder_list, file_name):\n",
    "    \"\"\"\n",
    "    search a file with a part of name in a list of folders\n",
    "    :param folder_list: a list of folders\n",
    "    :param file_name: a substring of a file\n",
    "    :param output: the full file name\n",
    "    \"\"\"\n",
    "    file_exist = False\n",
    "    for folder in folder_list:\n",
    "        full_file_name = os.path.join(folder, file_name)\n",
    "        if os.path.isfile(full_file_name):\n",
    "            file_exist = True\n",
    "            break\n",
    "    if file_exist == False:\n",
    "        raise ValueError('file not exist: {0:}'.format(file_name))\n",
    "    return full_file_name\n",
    "\n",
    "\n",
    "def create_data_list(data_folder_list, subject_list, img_postfix='_Image', label_postfix='_Label', is_inference=False):\n",
    "    \"\"\"\n",
    "    create list of all file paths\n",
    "    :param data_folder_list: list of directories to search\n",
    "    :param subject_list: list of subject prefix to search (expected filename: <subject_prefix><postfix>.nii.gz)\n",
    "    :param img_postfix: postfix for image filenames\n",
    "    :param label_postfix: postfix for label filenames\n",
    "    :param is_inference: boolean, if set to True, it will search for images only, not for labels\n",
    "    :return list of paths to existing files with matched name\n",
    "    \"\"\"\n",
    "\n",
    "    if isinstance(data_folder_list, str):\n",
    "        data_folder_list = [data_folder_list]\n",
    "    if isinstance(subject_list, str):\n",
    "        subject_list = [subject_list]\n",
    "\n",
    "    full_list = []\n",
    "    for scan_list in subject_list:\n",
    "        with open(scan_list) as f:\n",
    "            for line in f:\n",
    "                subject = line.rstrip()\n",
    "                image_basename = \"{}{}.nii.gz\".format(subject, img_postfix)\n",
    "                image_filename = search_file_in_folder_list(data_folder_list, image_basename)\n",
    "                label_basename = \"{}{}.nii.gz\".format(subject, label_postfix)\n",
    "                label_filename = search_file_in_folder_list(data_folder_list, label_basename)\n",
    "                if os.path.isfile(image_filename):\n",
    "                    if is_inference:\n",
    "                        full_list.append({'img': image_filename})\n",
    "                    else:\n",
    "                        if os.path.isfile(label_filename):\n",
    "                            full_list.append({'img': image_filename, 'seg': label_filename})\n",
    "                        else:\n",
    "                            raise IOError('Expected label file: {} not found'.format(label_filename))\n",
    "                else:\n",
    "                    raise IOError('Expected image file: {} not found'.format(image_filename))\n",
    "    return full_list"
   ]
  },
  {
   "cell_type": "code",
   "execution_count": null,
   "metadata": {},
   "outputs": [],
   "source": []
  }
 ],
 "metadata": {
  "kernelspec": {
   "display_name": "monai0.2.0-venv",
   "language": "python",
   "name": "monai0.2.0-venv"
  },
  "language_info": {
   "codemirror_mode": {
    "name": "ipython",
    "version": 3
   },
   "file_extension": ".py",
   "mimetype": "text/x-python",
   "name": "python",
   "nbconvert_exporter": "python",
   "pygments_lexer": "ipython3",
   "version": "3.7.4"
  }
 },
 "nbformat": 4,
 "nbformat_minor": 4
}
