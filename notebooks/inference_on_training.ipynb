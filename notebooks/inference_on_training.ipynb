{
 "cells": [
  {
   "cell_type": "code",
   "execution_count": 1,
   "metadata": {},
   "outputs": [],
   "source": [
    "import nibabel as nib\n",
    "import numpy as np\n",
    "import os\n",
    "import glob\n",
    "import sys\n",
    "import SimpleITK as sitk\n",
    "# !{sys.executable} -m pip install seaborn\n",
    "# !{sys.executable} -m pip install pandas\n",
    "import pandas as pd\n",
    "import seaborn as sns\n",
    "import matplotlib.pyplot as plt\n",
    "\n",
    "from ipynb.fs.full.io_utils import search_file_in_folder_list"
   ]
  },
  {
   "cell_type": "code",
   "execution_count": 2,
   "metadata": {},
   "outputs": [],
   "source": [
    "def compute_dice(seg1, seg2, label=1.0):\n",
    "    # flatten the segmentations\n",
    "    seg1 = seg1.flatten()\n",
    "    seg2 = seg2.flatten()\n",
    "\n",
    "    if len(seg1) != len(seg2):\n",
    "        raise InputError('The two segmentations have different dimensions - not comparable!')\n",
    "\n",
    "    yt = np.asarray(seg1 == label, np.float32)\n",
    "    yp = np.asarray(seg2 == label, np.float32)\n",
    "    \n",
    "    intersection = np.multiply(yt, yp)\n",
    "    union = np.asarray(yt + yp > 0, np.float32)\n",
    "    dice = 2 * np.sum(intersection) / (np.sum(yt) + np.sum(yp) + 1e-10)\n",
    "    \n",
    "    return dice"
   ]
  },
  {
   "cell_type": "code",
   "execution_count": 3,
   "metadata": {},
   "outputs": [],
   "source": [
    "def load_nifty_volume_as_4d_array(filename):\n",
    "    img_obj = sitk.ReadImage(filename)\n",
    "    data_array = sitk.GetArrayFromImage(img_obj)\n",
    "    spacing = img_obj.GetSpacing()\n",
    "    direction = img_obj.GetDirection()\n",
    "    shape = data_array.shape\n",
    "    if(len(shape) == 4):\n",
    "        data_array = np.moveaxis(data_array, 0, -1) \n",
    "    elif(len(shape) == 3):\n",
    "        data_array = np.expand_dims(data_array, axis = -1)\n",
    "    else:\n",
    "        raise ValueError(\"unsupported image dim: {0:}\".format(len(shape)))\n",
    "    output = {}\n",
    "    output['data_array'] = data_array\n",
    "    output['spacing']    = (spacing[2], spacing[1], spacing[0])\n",
    "    output['direction']  = direction\n",
    "    return output"
   ]
  },
  {
   "cell_type": "code",
   "execution_count": 4,
   "metadata": {},
   "outputs": [],
   "source": [
    "def read_nifti(nifti_file):\n",
    "#     img_nii = nib.load(nifti_file)\n",
    "#     img = img_nii.get_fdata()\n",
    "    \n",
    "    img_dict = load_nifty_volume_as_4d_array(nifti_file)\n",
    "    img = img_dict['data_array']\n",
    "    \n",
    "    # if two channels, get the foreground one\n",
    "    if img.shape[3] > 1:\n",
    "        img = img[..., 1]\n",
    "        \n",
    "    return img"
   ]
  },
  {
   "cell_type": "code",
   "execution_count": 5,
   "metadata": {},
   "outputs": [
    {
     "name": "stdout",
     "output_type": "stream",
     "text": [
      "a04_02\n",
      "a04_03\n",
      "a04_05\n",
      "a15_04\n",
      "a15_08\n",
      "a15_10\n",
      "a23_02\n",
      "a23_03\n",
      "a23_04\n",
      "b80_05\n",
      "b80_06\n",
      "b80_08\n",
      "17_03_08\n",
      "17_03_18\n",
      "17_03_19\n",
      "17_09_08\n",
      "17_09_20\n",
      "17_09_21\n",
      "17_23_04\n",
      "17_23_05\n",
      "17_23_06\n",
      "17_31_05\n",
      "17_31_06\n",
      "17_31_07\n",
      "C02_01\n",
      "C02_02\n",
      "C02_03\n",
      "C02_04\n",
      "C02_05\n",
      "C02_06\n",
      "C02_07\n",
      "C02_08\n",
      "C11_01\n",
      "C11_02\n",
      "C11_03\n",
      "C11_04\n",
      "C11_05\n",
      "D03_01\n",
      "D03_02\n",
      "D03_03\n",
      "D03_04\n",
      "D03_05\n",
      "E11_01\n",
      "E11_02\n",
      "E11_03\n",
      "E11_04\n",
      "E11_05\n",
      "E11_06\n",
      "E11_07\n",
      "E11_08\n"
     ]
    }
   ],
   "source": [
    "# set parameters:\n",
    "# net_out_root = [\"/mnt/data/mranzini/Desktop/GIFT-Surg/FBS_Monai/basic_unet_monai/tests_3D_unet/\" +\n",
    "#                 \"2020-08-05_17-47-42_CustomUNet25_inplane_Resize_outplaneCrop_larger_filters/inf_on_training_valid_key_metric=0.8792\"]\n",
    "net_out_root = [\"/mnt/data/mranzini/Desktop/GIFT-Surg/FBS_Monai/basic_unet_monai/tests_3D_unet/\" +\n",
    "                \"2020-08-05_17-47-42_CustomUNet25_inplane_Resize_outplaneCrop_larger_filters/inf_on_validation_valid_key_metric=0.8792\"]\n",
    "is_validation_set = True\n",
    "\n",
    "# list folders to search for the data\n",
    "data_root = [\"/mnt/data/mranzini/Desktop/GIFT-Surg/Data/NeuroImage_dataset/GroupA\", \n",
    "             \"/mnt/data/mranzini/Desktop/GIFT-Surg/Data/NeuroImage_dataset/GroupB1\",\n",
    "             \"/mnt/data/mranzini/Desktop/GIFT-Surg/Data/NeuroImage_dataset/GroupB2\", \n",
    "             \"/mnt/data/mranzini/Desktop/GIFT-Surg/Data/NeuroImage_dataset_extension/GroupC\",\n",
    "             \"/mnt/data/mranzini/Desktop/GIFT-Surg/Data/NeuroImage_dataset_extension/GroupD\",\n",
    "             \"/mnt/data/mranzini/Desktop/GIFT-Surg/Data/NeuroImage_dataset_extension/GroupE\",\n",
    "             \"/mnt/data/mranzini/Desktop/GIFT-Surg/Data/NeuroImage_dataset_extension/GroupF\"]\n",
    "\n",
    "# list of subject IDs to search for data\n",
    "list_root = \"/mnt/data/mranzini/Desktop/GIFT-Surg/Retraining_with_expanded_dataset/config/file_names\"\n",
    "if not is_validation_set:\n",
    "    training_list = [os.path.join(list_root, \"list_train_files.txt\")]\n",
    "else:\n",
    "    training_list = [os.path.join(list_root, \"list_validation_h_files.txt\"),\n",
    "                    os.path.join(list_root, \"list_validation_p_files.txt\")]\n",
    "\n",
    "full_list = {\"subj_id\": [], \"Dice\": [], \"Group\": []}\n",
    "for scan_list in training_list:\n",
    "    with open(scan_list) as f:\n",
    "        for line in f:\n",
    "            subject = line.rstrip()\n",
    "            print(subject)\n",
    "            image_basename = \"{}{}.nii.gz\".format(subject, '_Image')\n",
    "            image_filename = search_file_in_folder_list(data_root, image_basename)\n",
    "            label_basename = \"{}{}.nii.gz\".format(subject, '_Label')\n",
    "            label_filename = search_file_in_folder_list(data_root, label_basename)\n",
    "            output_basename = os.path.join(\"{}_Image\".format(subject), \"{}_Image_seg.nii.gz\".format(subject))\n",
    "            output_filename = search_file_in_folder_list(net_out_root, output_basename)\n",
    "            get_group = image_filename[image_filename.find(\"Group\") + 5]\n",
    "            if get_group == \"B\":\n",
    "                get_group = image_filename[image_filename.find(\"Group\") + 5] + \\\n",
    "                    image_filename[image_filename.find(\"Group\") + 6]\n",
    "                \n",
    "            if os.path.isfile(image_filename) and os.path.isfile(label_filename) and os.path.isfile(output_filename):\n",
    "                # compute Dice between gt and seg\n",
    "                label = np.squeeze(read_nifti(label_filename))\n",
    "                output = np.squeeze(read_nifti(output_filename))\n",
    "                output_bin = output > 0.5\n",
    "                full_list['subj_id'].append(subject)\n",
    "                full_list['Dice'].append(compute_dice(label, output_bin))\n",
    "                full_list['Group'].append(get_group)\n",
    "            else:\n",
    "                raise IOError('Expected files not found for subject {}'.format(subject))\n"
   ]
  },
  {
   "cell_type": "code",
   "execution_count": 6,
   "metadata": {},
   "outputs": [
    {
     "data": {
      "image/png": "[encoded data removed]",
      "text/plain": [
       "<Figure size 864x360 with 1 Axes>"
      ]
     },
     "metadata": {
      "needs_background": "light"
     },
     "output_type": "display_data"
    }
   ],
   "source": [
    "pd1 = pd.DataFrame(data=full_list)\n",
    "\n",
    "fig = plt.figure(figsize=(12, 5))\n",
    "b1 = sns.boxplot(x='Group', y='Dice', data=pd1)\n",
    "b1.set_ylabel('Dice', fontsize=18)\n",
    "b1.set_ylim([0, 1])\n",
    "plt.grid(b=True,axis='y')"
   ]
  },
  {
   "cell_type": "code",
   "execution_count": 8,
   "metadata": {},
   "outputs": [
    {
     "name": "stdout",
     "output_type": "stream",
     "text": [
      "['a23_02', '17_03_18', '17_03_19', '17_09_21']\n",
      "[0.6851022148052742, 0.7057774862016339, 0.7303334250481485, 0.7317073170731669]\n"
     ]
    }
   ],
   "source": [
    "full_list[\"Dice\"] = np.asarray(full_list[\"Dice\"])\n",
    "idx = np.squeeze(np.argwhere(full_list[\"Dice\"] < 0.75), axis=-1)\n",
    "print([full_list['subj_id'][i] for i in idx])\n",
    "print([full_list['Dice'][i] for i in idx])"
   ]
  },
  {
   "cell_type": "code",
   "execution_count": null,
   "metadata": {},
   "outputs": [],
   "source": []
  }
 ],
 "metadata": {
  "kernelspec": {
   "display_name": "monai0.2.0-venv",
   "language": "python",
   "name": "monai0.2.0-venv"
  },
  "language_info": {
   "codemirror_mode": {
    "name": "ipython",
    "version": 3
   },
   "file_extension": ".py",
   "mimetype": "text/x-python",
   "name": "python",
   "nbconvert_exporter": "python",
   "pygments_lexer": "ipython3",
   "version": "3.7.4"
  }
 },
 "nbformat": 4,
 "nbformat_minor": 4
}
