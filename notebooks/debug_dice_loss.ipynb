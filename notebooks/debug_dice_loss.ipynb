{
 "cells": [
  {
   "cell_type": "code",
   "execution_count": null,
   "metadata": {},
   "outputs": [],
   "source": [
    "import os\n",
    "import sys\n",
    "import numpy as np\n",
    "import scipy\n",
    "import torch\n",
    "import monai\n",
    "\n",
    "from matplotlib import pyplot as plt\n",
    "\n",
    "sys.path.append(\"/mnt/data/mranzini/Desktop/GIFT-Surg/FBS_Monai/basic_unet_monai/src\")\n",
    "from custom_losses import DiceLossExtended, DiceLoss_noSmooth"
   ]
  },
  {
   "cell_type": "code",
   "execution_count": null,
   "metadata": {},
   "outputs": [],
   "source": [
    "def compute_soft_dice(seg1, seg2, label=1.0):\n",
    "    # flatten the segmentations\n",
    "    seg1 = seg1.flatten()\n",
    "    seg2 = seg2.flatten()\n",
    "\n",
    "    if len(seg1) != len(seg2):\n",
    "        raise InputError('The two segmentations have different dimensions - not comparable!')\n",
    "\n",
    "#     yt = np.asarray(seg1 == label, np.float32)\n",
    "#     yp = np.asarray(seg2 == label, np.float32)\n",
    "    yt = seg1\n",
    "    yp = seg2\n",
    "    \n",
    "    intersection = np.multiply(yt, yp)\n",
    "    union = np.asarray(yt + yp > 0, np.float32)\n",
    "    dice = 2 * np.sum(intersection) / (np.sum(yt) + np.sum(yp) + 1e-10)\n",
    "    \n",
    "    return dice\n",
    "\n"
   ]
  },
  {
   "cell_type": "code",
   "execution_count": null,
   "metadata": {},
   "outputs": [],
   "source": [
    "def generate_gt_pred_pairs(test_num):\n",
    "    tests_dict = {0: \"Empty prediction\", 1: \"Perfect match\", 2: \"Smooth big circle\", 3: \"Shifted small circle\"}\n",
    "\n",
    "    # create a 2D fake examples\n",
    "    size_x, size_y = 96, 96\n",
    "    cx1, cy1 = 74, 62\n",
    "    r1 = 32\n",
    "    cx2, cy2 = 12, 12\n",
    "    r2 = 8\n",
    "\n",
    "    ground_truth = np.zeros([size_x, size_y])\n",
    "    # add first circle\n",
    "    y1, x1 = np.ogrid[-cx1:size_x-cx1, -cy1:size_y-cy1]\n",
    "    mask1 = x1*x1 + y1*y1 <= r1*r1\n",
    "    ground_truth[mask1] = 1.0\n",
    "    # add second circle\n",
    "    y2, x2 = np.ogrid[-cx2:size_x-cx2, -cy2:size_y-cy2]\n",
    "    mask2 = x2*x2 + y2*y2 <= r2*r2\n",
    "    ground_truth[mask2] = 1.0\n",
    "\n",
    "    net_out = np.zeros([size_x, size_y])\n",
    "    if test_num == 0:\n",
    "        pass\n",
    "    elif test_num == 1:\n",
    "        net_out = ground_truth\n",
    "    elif test_num == 2:\n",
    "        net_out[mask1] = 1.0\n",
    "        net_out = scipy.ndimage.gaussian_filter(net_out, sigma=3)\n",
    "    elif test_num == 3:\n",
    "        shifted_cx2 = cx2+1\n",
    "        shifted_cy2 = cy2-1\n",
    "        y2bis, x2bis = np.ogrid[-shifted_cx2:size_x-shifted_cx2, -shifted_cy2:size_y-shifted_cy2]\n",
    "        mask2bis = x2bis*x2bis + y2bis*y2bis <= r2*r2\n",
    "        net_out[mask2bis] = 1.0\n",
    "    else:\n",
    "        raise Exception(\"Unidentified test number\")\n",
    "\n",
    "    fig, ax = plt.subplots(nrows=1, ncols=2)\n",
    "    ax[0].imshow(ground_truth, vmin=0.0, vmax=1.0, interpolation='nearest')\n",
    "    ax[1].imshow(net_out, vmin=0.0, vmax=1.0, interpolation='nearest')\n",
    "    \n",
    "    return ground_truth, net_out, tests_dict"
   ]
  },
  {
   "cell_type": "markdown",
   "metadata": {},
   "source": [
    "## Validate DiceLossExtended vs monai.losses.DiceLoss"
   ]
  },
  {
   "cell_type": "code",
   "execution_count": null,
   "metadata": {},
   "outputs": [],
   "source": [
    "# generate the test data\n",
    "test_n = 1\n",
    "ground_truth1, net_out1, tests_dict = generate_gt_pred_pairs(test_num=test_n)\n",
    "\n",
    "do_sigmoid, do_softmax = False, False\n",
    "smooth_num = 1e-5\n",
    "smooth_den = 1e-5\n",
    "\n",
    "dice_numpy = compute_soft_dice(ground_truth1, net_out1)\n",
    "\n",
    "# convert to tensor and use the losses in MONAI\n",
    "gt_tensor = torch.as_tensor(np.ascontiguousarray(ground_truth1))\n",
    "gt_tensor = gt_tensor[None, None]\n",
    "out_tensor = torch.as_tensor(np.ascontiguousarray(net_out1))\n",
    "out_tensor = out_tensor[None, None]\n",
    "\n",
    "# verify that Expanded returns the same as monai.losses.Dice when same setting\n",
    "monai_dice_loss = monai.losses.DiceLoss(sigmoid=do_sigmoid, softmax=do_softmax)\n",
    "monai_dice = monai_dice_loss(out_tensor, gt_tensor, smooth=smooth_num)\n",
    "\n",
    "extended_dice_loss = DiceLossExtended(sigmoid=do_sigmoid, softmax=do_softmax, batch_version=False, smooth_num=smooth_num, smooth_den=smooth_den)\n",
    "extended_dice = extended_dice_loss(out_tensor, gt_tensor)\n",
    "\n",
    "print(f\"*** Test = {tests_dict[test_n]} ***\\n\")\n",
    "print(f\"Dice loss from numpy: {1.0-dice_numpy}\")\n",
    "print(f\"Dice loss from monai.losses.DiceLoss: {monai_dice}\")\n",
    "print(f\"Dice loss from DiceLossExtended: {extended_dice}\\n\")"
   ]
  },
  {
   "cell_type": "markdown",
   "metadata": {},
   "source": [
    "## Test Batch Dice implementation"
   ]
  },
  {
   "cell_type": "code",
   "execution_count": null,
   "metadata": {},
   "outputs": [],
   "source": [
    "# create two pairs gt-prediction\n",
    "gt1, out1, tests_dict = generate_gt_pred_pairs(test_num=0)\n",
    "gt2, out2, _ = generate_gt_pred_pairs(test_num=1)\n",
    "\n",
    "# convert them to 4D arrays [Batch x Channel x Height x Width]\n",
    "def create_batch(arr1, arr2):\n",
    "    arr1 = np.expand_dims(arr1, axis=0)\n",
    "    arr1 = np.expand_dims(arr1, axis=0)\n",
    "    arr2 = np.expand_dims(arr2, axis=0)\n",
    "    arr2 = np.expand_dims(arr2, axis=0)\n",
    "    return np.concatenate((arr1, arr2), axis=0)\n",
    "\n",
    "full_gt = create_batch(gt1, gt2)\n",
    "full_out = create_batch(out1, out2)"
   ]
  },
  {
   "cell_type": "code",
   "execution_count": null,
   "metadata": {},
   "outputs": [],
   "source": [
    "do_sigmoid, do_softmax = False, False\n",
    "smooth_num = 1e-5\n",
    "smooth_den = 1e-5\n",
    "\n",
    "batch_dice_numpy = compute_soft_dice(full_gt, full_out)\n",
    "avg_dice_numpy = 0.5 * (compute_soft_dice(gt1, out1) + compute_soft_dice(gt2, out2))\n",
    "\n",
    "# convert to tensor and use the losses in MONAI\n",
    "gt_tensor = torch.as_tensor(np.ascontiguousarray(full_gt))\n",
    "out_tensor = torch.as_tensor(np.ascontiguousarray(full_out))\n",
    "\n",
    "# verify that Expanded returns the same as monai.losses.Dice when same setting\n",
    "monai_dice_loss = monai.losses.DiceLoss(sigmoid=do_sigmoid, softmax=do_softmax)\n",
    "monai_dice = monai_dice_loss(out_tensor, gt_tensor, smooth=smooth_num)\n",
    "\n",
    "batch_dice_loss = DiceLossExtended(sigmoid=do_sigmoid, softmax=do_softmax, batch_version=True, smooth_num=smooth_num, smooth_den=smooth_den)\n",
    "batch_dice = batch_dice_loss(out_tensor, gt_tensor)\n",
    "\n",
    "print(f\"*** Test = {tests_dict[test_n]} ***\\n\")\n",
    "print(f\"Avg Dice loss from numpy: {1.0-avg_dice_numpy}\")\n",
    "print(f\"Avg Dice loss from monai.losses.DiceLoss: {monai_dice}\")\n",
    "print(f\"Batch Dice loss from numpy: {1.0-batch_dice_numpy}\")\n",
    "print(f\"Batch Dice loss from DiceLossExtended: {batch_dice}\\n\")"
   ]
  },
  {
   "cell_type": "code",
   "execution_count": null,
   "metadata": {},
   "outputs": [],
   "source": []
  }
 ],
 "metadata": {
  "kernelspec": {
   "display_name": "monai0.2.0-venv",
   "language": "python",
   "name": "monai0.2.0-venv"
  },
  "language_info": {
   "codemirror_mode": {
    "name": "ipython",
    "version": 3
   },
   "file_extension": ".py",
   "mimetype": "text/x-python",
   "name": "python",
   "nbconvert_exporter": "python",
   "pygments_lexer": "ipython3",
   "version": "3.7.4"
  }
 },
 "nbformat": 4,
 "nbformat_minor": 4
}
