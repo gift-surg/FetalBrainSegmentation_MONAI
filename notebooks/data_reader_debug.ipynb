{
 "cells": [
  {
   "cell_type": "markdown",
   "metadata": {},
   "source": [
    "# Test data reading and preprocessing for fetal brain segmentation"
   ]
  },
  {
   "cell_type": "code",
   "execution_count": 1,
   "metadata": {},
   "outputs": [
    {
     "name": "stdout",
     "output_type": "stream",
     "text": [
      "MONAI version: 0.2.0\n",
      "Python version: 3.7.4 (default, Jul  9 2019, 03:52:42)  [GCC 5.4.0 20160609]\n",
      "Numpy version: 1.18.2\n",
      "Pytorch version: 1.4.0\n",
      "\n",
      "Optional dependencies:\n",
      "Pytorch Ignite version: 0.3.0\n",
      "Nibabel version: 3.0.2\n",
      "scikit-image version: 0.16.2\n",
      "Pillow version: 7.1.1\n",
      "Tensorboard version: 2.2.1\n",
      "\n",
      "For details about installing the optional dependencies, please visit:\n",
      "    https://docs.monai.io/en/latest/installation.html#installing-the-recommended-dependencies\n",
      "\n"
     ]
    }
   ],
   "source": [
    "import os\n",
    "import sys\n",
    "import tempfile\n",
    "from glob import glob\n",
    "import logging\n",
    "\n",
    "import nibabel as nib\n",
    "import numpy as np\n",
    "import torch\n",
    "from matplotlib import pyplot as plt\n",
    "from ignite.engine import Events, create_supervised_trainer, create_supervised_evaluator, _prepare_batch\n",
    "from ignite.handlers import ModelCheckpoint\n",
    "from torch.utils.data import DataLoader\n",
    "\n",
    "monai_old = False\n",
    "if monai_old:\n",
    "    sys.path.append(\"/mnt/data/mranzini/Desktop/GIFT-Surg/FBS_Monai/MONAI\")\n",
    "import monai\n",
    "from monai.data import NiftiDataset, list_data_collate\n",
    "from monai.transforms import Compose, LoadNiftid, AddChanneld, NormalizeIntensityd, Resized, \\\n",
    "     RandSpatialCropd, RandRotated, RandFlipd, SqueezeDimd, SplitChanneld, ToTensord\n",
    "from monai.transforms.compose import Transform, MapTransform\n",
    "from monai.handlers import \\\n",
    "    StatsHandler, TensorBoardStatsHandler, TensorBoardImageHandler, MeanDice, stopping_fn_from_metric\n",
    "from monai.networks.utils import predict_segmentation\n",
    "from monai.utils import set_determinism\n",
    "\n",
    "# from ipynb.fs.full.io_utils import create_data_list\n",
    "sys.path.append(\"/mnt/data/mranzini/Desktop/GIFT-Surg/FBS_Monai/basic_unet_monai/src/\")\n",
    "from io_utils import create_data_list\n",
    "\n",
    "monai.config.print_config()\n",
    "logging.basicConfig(stream=sys.stdout, level=logging.INFO)\n",
    "\n",
    "cuda_device=1\n",
    "torch.cuda.set_device(cuda_device)\n",
    "set_determinism(seed=2)"
   ]
  },
  {
   "cell_type": "markdown",
   "metadata": {},
   "source": [
    "## Create training and validation data list"
   ]
  },
  {
   "cell_type": "code",
   "execution_count": 2,
   "metadata": {},
   "outputs": [
    {
     "name": "stdout",
     "output_type": "stream",
     "text": [
      "316\n",
      "{'img': '/mnt/data/mranzini/Desktop/GIFT-Surg/Data/NeuroImage_dataset/GroupA/a01_02_Image.nii.gz', 'seg': '/mnt/data/mranzini/Desktop/GIFT-Surg/Data/NeuroImage_dataset/GroupA/a01_02_Label.nii.gz', 'mask': []}\n",
      "{'img': '/mnt/data/mranzini/Desktop/GIFT-Surg/Data/NeuroImage_dataset_extension/GroupE/E18_02_Image.nii.gz', 'seg': '/mnt/data/mranzini/Desktop/GIFT-Surg/Data/NeuroImage_dataset_extension/GroupE/E18_02_Label.nii.gz', 'mask': []}\n",
      "50\n",
      "{'img': '/mnt/data/mranzini/Desktop/GIFT-Surg/Data/NeuroImage_dataset/GroupA/a04_02_Image.nii.gz', 'seg': '/mnt/data/mranzini/Desktop/GIFT-Surg/Data/NeuroImage_dataset/GroupA/a04_02_Label.nii.gz', 'mask': []}\n",
      "{'img': '/mnt/data/mranzini/Desktop/GIFT-Surg/Data/NeuroImage_dataset_extension/GroupE/E11_08_Image.nii.gz', 'seg': '/mnt/data/mranzini/Desktop/GIFT-Surg/Data/NeuroImage_dataset_extension/GroupE/E11_08_Label.nii.gz', 'mask': []}\n"
     ]
    }
   ],
   "source": [
    "# list folders to search for the data\n",
    "data_root = [\"/mnt/data/mranzini/Desktop/GIFT-Surg/Data/NeuroImage_dataset/GroupA\", \n",
    "             \"/mnt/data/mranzini/Desktop/GIFT-Surg/Data/NeuroImage_dataset/GroupB1\",\n",
    "             \"/mnt/data/mranzini/Desktop/GIFT-Surg/Data/NeuroImage_dataset/GroupB2\", \n",
    "             \"/mnt/data/mranzini/Desktop/GIFT-Surg/Data/NeuroImage_dataset_extension/GroupC\",\n",
    "             \"/mnt/data/mranzini/Desktop/GIFT-Surg/Data/NeuroImage_dataset_extension/GroupD\",\n",
    "             \"/mnt/data/mranzini/Desktop/GIFT-Surg/Data/NeuroImage_dataset_extension/GroupE\",\n",
    "             \"/mnt/data/mranzini/Desktop/GIFT-Surg/Data/NeuroImage_dataset_extension/GroupF\", \n",
    "            \"\"]\n",
    "\n",
    "# list of subject IDs to search for data\n",
    "list_root = \"/mnt/data/mranzini/Desktop/GIFT-Surg/Retraining_with_expanded_dataset/config/file_names\"\n",
    "training_list = os.path.join(list_root, \"list_train_files.txt\")\n",
    "validation_list = [os.path.join(list_root, \"list_validation_h_files.txt\"),\n",
    "                   os.path.join(list_root, \"list_validation_p_files.txt\")]\n",
    "\n",
    "# \n",
    "train_files = create_data_list(data_folder_list=data_root, \n",
    "                               subject_list=training_list, \n",
    "                               img_postfix='_Image', \n",
    "                               label_postfix='_Label')\n",
    "\n",
    "print(len(train_files))\n",
    "print(train_files[0])\n",
    "print(train_files[-1])\n",
    "\n",
    "val_files = create_data_list(data_folder_list=data_root, \n",
    "                             subject_list=validation_list, \n",
    "                             img_postfix='_Image', \n",
    "                             label_postfix='_Label')\n",
    "print(len(val_files))\n",
    "print(val_files[0])\n",
    "print(val_files[-1])\n",
    "\n",
    "# np.savetxt(\"images_training.txt\", images_training, fmt='%s')\n",
    "# np.savetxt(\"seg_training.txt\", seg_training, fmt='%s')\n",
    "# np.savetxt(\"images_validation.txt\", images_validation, fmt='%s')\n",
    "# np.savetxt(\"seg_validation.txt\", seg_validation, fmt='%s')"
   ]
  },
  {
   "cell_type": "markdown",
   "metadata": {},
   "source": [
    "## Setup transforms, dataset"
   ]
  },
  {
   "cell_type": "code",
   "execution_count": 3,
   "metadata": {},
   "outputs": [],
   "source": [
    "##### MY DEFINITION OF TRANSFORMS BEFORE THEY WERE ADDED TO MONAI\n",
    "# define transforms for image and segmentation\n",
    "# class SqueezeDim(Transform):\n",
    "#     \"\"\"\n",
    "#     Remove last dimension\n",
    "#     \"\"\"\n",
    "\n",
    "#     def __init__(self, dim=None):\n",
    "#         \"\"\"\n",
    "#         Args:\n",
    "#             dim (int): dimension to be squeezed.\n",
    "#                 Default: None (all dimensions of size 1 will be removed)\n",
    "#         \"\"\"\n",
    "#         if dim is not None:\n",
    "#             assert isinstance(dim, int) and dim >= -1, 'invalid channel dimension.'\n",
    "#         self.dim = dim\n",
    "\n",
    "#     def __call__(self, img):\n",
    "#         \"\"\"\n",
    "#         Args:\n",
    "#             data (dict): dictionary of numpy arrays with dim removed,\n",
    "#         \"\"\"\n",
    "#         return np.squeeze(img, self.dim)\n",
    "\n",
    "    \n",
    "# class SqueezeDimd(MapTransform):\n",
    "#     \"\"\"\n",
    "#     Dictionary-based wrapper of :py:class:SqueezeDim`.\n",
    "#     \"\"\"\n",
    "\n",
    "#     def __init__(self, keys, dim=None):\n",
    "#         \"\"\"\n",
    "#         Args:\n",
    "#             keys (hashable items): keys of the corresponding items to be transformed.\n",
    "#                 See also: :py:class:`monai.transforms.compose.MapTransform`\n",
    "#             dim (int): dimension to be squeezed.\n",
    "#                 Default: None (all dimensions of size 1 will be removed)\n",
    "#         \"\"\"\n",
    "#         super().__init__(keys)\n",
    "#         self.converter = SqueezeDim(dim=dim)\n",
    "\n",
    "#     def __call__(self, data):\n",
    "#         d = dict(data)\n",
    "#         for key in self.keys:\n",
    "#             d[key] = self.converter(d[key])\n",
    "#         return d\n",
    "\n",
    "class ConverToOneHotd(MapTransform):\n",
    "    \"\"\"\n",
    "    Convert multi-class label to One Hot Encoding:\n",
    "    \"\"\"\n",
    "    def __init__(self, keys, labels):\n",
    "        \"\"\"\n",
    "        Args:\n",
    "            \n",
    "        \"\"\"\n",
    "        super().__init__(keys)\n",
    "        self.labels = labels\n",
    "    \n",
    "    def __call__(self, data):\n",
    "        d = dict(data)\n",
    "        for key in self.keys:\n",
    "            result = list()\n",
    "            for n in self.labels:\n",
    "                result.append(d[key] == n)\n",
    "            d[key] = np.stack(result, axis=0).astype(np.float32)\n",
    "        return d"
   ]
  },
  {
   "cell_type": "code",
   "execution_count": 4,
   "metadata": {},
   "outputs": [
    {
     "name": "stderr",
     "output_type": "stream",
     "text": [
      "/mnt/data/mranzini/environments/monai0.2.0_python3.7/lib/python3.7/site-packages/torch/nn/functional.py:2506: UserWarning: Default upsampling behavior when mode=trilinear is changed to align_corners=False since 0.4.0. Please specify align_corners=True if the old behavior is desired. See the documentation of nn.Upsample for details.\n",
      "  \"See the documentation of nn.Upsample for details.\".format(mode))\n"
     ]
    },
    {
     "name": "stdout",
     "output_type": "stream",
     "text": [
      "torch.Size([2, 1, 96, 96]) torch.Size([2, 1, 96, 96])\n",
      "Segmentation limits: channel 0\n",
      "tensor(0.)\n",
      "tensor(1.)\n"
     ]
    },
    {
     "data": {
      "image/png": "[encoded data removed]",
      "text/plain": [
       "<Figure size 720x360 with 2 Axes>"
      ]
     },
     "metadata": {
      "needs_background": "light"
     },
     "output_type": "display_data"
    }
   ],
   "source": [
    "num_classes = 1\n",
    "labels = [1]\n",
    "\n",
    "if monai_old:\n",
    "    # MONAI 0.1.0+84.ga683c4e.dirty\n",
    "    train_transforms = Compose([\n",
    "        LoadNiftid(keys=['img', 'seg']),\n",
    "        ConverToOneHotd(keys=['seg'], labels=labels),\n",
    "        AddChanneld(keys=['img']),\n",
    "        NormalizeIntensityd(keys=['img']),  \n",
    "        Resized(keys=['img', 'seg'], spatial_size=[96, 96], interp_order=[1, 0], anti_aliasing=[True, False]),\n",
    "        RandSpatialCropd(keys=['img', 'seg'], roi_size=[96, 96, 1], random_size=False),\n",
    "        RandRotated(keys=['img', 'seg'], degrees=90, prob=0.2, spatial_axes=[0, 1], interp_order=[1, 0], reshape=False),\n",
    "        RandFlipd(keys=['img', 'seg'], spatial_axis=[0, 1]),\n",
    "        SqueezeDimd(keys=['img', 'seg'], dim=-1),\n",
    "        ToTensord(keys=['img', 'seg'])\n",
    "    ])\n",
    "else:\n",
    "    train_transforms = Compose([\n",
    "        LoadNiftid(keys=['img', 'seg']),\n",
    "        ConverToOneHotd(keys=['seg'], labels=labels),\n",
    "        AddChanneld(keys=['img']),\n",
    "        NormalizeIntensityd(keys=['img']),\n",
    "        Resized(keys=['img', 'seg'], spatial_size=[96, 96, -1], mode=[\"trilinear\", \"nearest\"]),\n",
    "        RandSpatialCropd(keys=['img', 'seg'], roi_size=[96, 96, 1], random_size=False),\n",
    "        RandRotated(keys=['img', 'seg'], range_x=90, range_y=90, prob=0.2, keep_size=True, mode=[\"bilinear\", \"nearest\"]),\n",
    "        RandFlipd(keys=['img', 'seg'], spatial_axis=[0, 1]),\n",
    "        SqueezeDimd(keys=['img', 'seg'], dim=-1),\n",
    "        ToTensord(keys=['img', 'seg'])\n",
    "    ])\n",
    "                 \n",
    "check_train_files = train_files[:4]\n",
    "# print(check_train_files)\n",
    "\n",
    "# define dataset, data loader\n",
    "check_ds = monai.data.Dataset(data=check_train_files, transform=train_transforms)\n",
    "# use batch_size=2 to load images \n",
    "check_loader = DataLoader(check_ds, batch_size=2, num_workers=1, collate_fn=list_data_collate,\n",
    "                          pin_memory=torch.cuda.is_available())\n",
    "\n",
    "check_data = monai.utils.misc.first(check_loader)\n",
    "print(check_data['img'].shape, check_data['seg'].shape)\n",
    "\n",
    "\n",
    "plt.figure(figsize=(10, 5))\n",
    "plt.subplot(131)\n",
    "plt.imshow(check_data['img'][0, 0, :, :], cmap='gray')\n",
    "plt.subplot(132)\n",
    "plt.imshow(check_data['seg'][0, 0, :, :], interpolation=\"nearest\")\n",
    "print(\"Segmentation limits: channel 0\")\n",
    "print(torch.min(check_data['seg'][0, 0, :, :]))\n",
    "print(torch.max(check_data['seg'][0, 0, :, :]))\n",
    "if num_classes == 2:\n",
    "    plt.subplot(133)\n",
    "    plt.imshow(check_data['seg'][0, 1, : , :], interpolation=\"nearest\")\n",
    "    print(\"Segmentation limits: channel 1\")\n",
    "    print(torch.min(check_data['seg'][0, 1, :, :]))\n",
    "    print(torch.max(check_data['seg'][0, 1, :, :]))\n",
    "########\n",
    "# val_transforms = Compose([\n",
    "#     LoadNiftid(keys=['img', 'seg']),\n",
    "#     AddChanneld(keys=['img', 'seg']),\n",
    "#     NormalizeIntensityd(keys=['img']),\n",
    "#     Resized(keys=['img'], spatial_size=[96, 96], order=1),\n",
    "#     Resized(keys=['seg'], spatial_size=[96, 96], order=0, anti_aliasing=False),\n",
    "#     ToTensord(keys=['img', 'seg'])\n",
    "# ])\n",
    "\n",
    "# # create a training data loader\n",
    "# train_ds = monai.data.Dataset(data=train_files, transform=train_transforms)\n",
    "# train_loader = DataLoader(train_ds, batch_size=10, shuffle=True, num_workers=4,\n",
    "#                           collate_fn=list_data_collate, pin_memory=torch.cuda.is_available())\n",
    "# check_train_data = monai.utils.misc.first(train_loader)\n",
    "# print(check_train_data['img'].shape, check_train_data['seg'].shape)\n",
    "\n",
    "# # create a validation data loader\n",
    "# val_ds = monai.data.Dataset(data=val_files, transform=val_transforms)\n",
    "# val_loader = DataLoader(val_ds, batch_size=1, num_workers=4, collate_fn=list_data_collate,\n",
    "#                         pin_memory=torch.cuda.is_available())"
   ]
  },
  {
   "cell_type": "code",
   "execution_count": null,
   "metadata": {},
   "outputs": [],
   "source": [
    "# check that the two channels are correct\n",
    "print(check_data['seg'][0, 0, 60, 60:80])\n",
    "# print(check_data['seg'][0, 1, 60, 60:80])"
   ]
  },
  {
   "cell_type": "code",
   "execution_count": null,
   "metadata": {},
   "outputs": [],
   "source": [
    "import nibabel as nib\n",
    "\n",
    "count_slices = 0\n",
    "for f in train_files:\n",
    "    tmp_nii = nib.load(f['img'])\n",
    "    tmp_img = tmp_nii.get_fdata()\n",
    "    count_slices += np.shape(tmp_img)[2]\n",
    "print(count_slices) "
   ]
  },
  {
   "cell_type": "code",
   "execution_count": null,
   "metadata": {},
   "outputs": [],
   "source": [
    "320000/count_slices"
   ]
  },
  {
   "cell_type": "code",
   "execution_count": null,
   "metadata": {},
   "outputs": [],
   "source": []
  }
 ],
 "metadata": {
  "kernelspec": {
   "display_name": "monai0.2.0-venv",
   "language": "python",
   "name": "monai0.2.0-venv"
  },
  "language_info": {
   "codemirror_mode": {
    "name": "ipython",
    "version": 3
   },
   "file_extension": ".py",
   "mimetype": "text/x-python",
   "name": "python",
   "nbconvert_exporter": "python",
   "pygments_lexer": "ipython3",
   "version": "3.7.4"
  }
 },
 "nbformat": 4,
 "nbformat_minor": 4
}
